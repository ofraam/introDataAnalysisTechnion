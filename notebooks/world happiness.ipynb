{
 "cells": [
  {
   "cell_type": "markdown",
   "metadata": {},
   "source": [
    "# World Happiness \n",
    "In this exercise, we will play with data from a world happiness survey (https://www.kaggle.com/unsdsn/world-happiness)\n",
    "\n",
    "Below is some basic code for reading and visualizing the data. \n",
    "\n",
    "Data description:\n",
    "\n",
    "- Country: Name of the country.\n",
    "- Region: Region the country belongs to.\n",
    "- Happiness Rank: Rank of the country based on the Happiness Score.\n",
    "- Happiness Score: A metric measured in 2015 by asking the sampled people the question: \"How would you rate your happiness on a scale of 0 to 10 where 10 is the happiest.\"\n",
    "- Standard Error: The standard error of the happiness score.\n",
    "- Economy (GDP per Capita): The extent to which GDP contributes to the calculation of the Happiness Score.\n",
    "- Family: The extent to which Family contributes to the calculation of the Happiness Score\n",
    "- Health (Life Expectancy): The extent to which Life expectancy contributed to the calculation of the Happiness Score\n",
    "- Freedom: The extent to which Freedom contributed to the calculation of the Happiness Score.\n",
    "- Trust (Government Corruption): The extent to which Perception of Corruption contributes to Happiness Score.\n",
    "- Generosity: The extent to which Generosity contributed to the calculation of the Happiness Score.\n",
    "- Dystopia Residual: The extent to which Dystopia Residual contributed to the calculation of the Happiness Score"
   ]
  },
  {
   "cell_type": "code",
   "execution_count": null,
   "metadata": {},
   "outputs": [],
   "source": [
    "import pandas as pd  # pandas is a package we will use to work with data tables\n",
    "import matplotlib.pyplot as plt  # matplotlib is a package for plotting data\n",
    "import seaborn as sns  # seaborn is also a package for plotting data, built on top of matplotlib\n",
    "import numpy as np  # numpy is a package for working with numerical data\n",
    "\n",
    "happiness_data = pd.read_csv('happiness2017.csv')  # reads dataset to a dataframe (more on this later)\n",
    "print(happiness_data.columns.values)  # prints the names of columns in our dataset\n",
    "print(happiness_data.head())  # prints first 5 rows of dataframe"
   ]
  },
  {
   "cell_type": "markdown",
   "metadata": {},
   "source": [
    "## Ten happiest countries\n",
    "\n",
    "Run the code below to see which are the happiest countries and their corresponding mean happiness scores.\n",
    "\n",
    "Try to modify the code to see which are the less happy countries..."
   ]
  },
  {
   "cell_type": "code",
   "execution_count": null,
   "metadata": {},
   "outputs": [],
   "source": [
    "plt.figure(figsize=(10, 10))  # makes the plot size larger so we can see country names clearly\n",
    "# filters data to include only top 10 happy countries\n",
    "happiness_top_10 = happiness_data.loc[happiness_data['HappinessRank'] < 11]  \n",
    "# plot happiness by country\n",
    "ax = sns.barplot('Country', 'HappinessScore', data=happiness_top_10)"
   ]
  },
  {
   "cell_type": "markdown",
   "metadata": {},
   "source": [
    "## What about us?\n",
    "Let's check out how happy we are compared to other countries.\n",
    "The code below compares our happiness scores with those of the US and Japan. How are we doing? Are you surprised?\n",
    "\n",
    "Try to modify the code to check how we compare to other countries. "
   ]
  },
  {
   "cell_type": "code",
   "execution_count": null,
   "metadata": {},
   "outputs": [],
   "source": [
    "# list of countries we want to check out\n",
    "countries = ['Israel', 'United States', 'Japan']  \n",
    "# filters data to include countries from our list\n",
    "happiness_countries = happiness_data.loc[happiness_data['Country'].isin(countries)]  \n",
    "# plot happiness by country\n",
    "ax = sns.barplot('Country', 'HappinessScore', data=happiness_countries)"
   ]
  },
  {
   "cell_type": "markdown",
   "metadata": {},
   "source": [
    "## What factors seems to be related to overall happiness?\n",
    "Let's check out the additional information we have, which shows for each country, how much each of the different factors contributed to the happiness score.\n",
    "\n",
    "The code below shows the contribution of freedom to the happiness score on the x-axis, and happiness scores on the y-axis. What do you infer from this plot?\n",
    "\n",
    "Try to change the code to examine other characteristics and their relation to happiness. \n",
    "Tip: recall we printed the column names above."
   ]
  },
  {
   "cell_type": "code",
   "execution_count": null,
   "metadata": {},
   "outputs": [],
   "source": [
    "# make scatter plot of freedom and happiness\n",
    "ax = sns.lmplot('Freedom', 'HappinessScore', data=happiness_data)"
   ]
  }
 ],
 "metadata": {
  "kernelspec": {
   "display_name": "Python 3",
   "language": "python",
   "name": "python3"
  },
  "language_info": {
   "codemirror_mode": {
    "name": "ipython",
    "version": 3
   },
   "file_extension": ".py",
   "mimetype": "text/x-python",
   "name": "python",
   "nbconvert_exporter": "python",
   "pygments_lexer": "ipython3",
   "version": "3.6.5"
  }
 },
 "nbformat": 4,
 "nbformat_minor": 2
}
